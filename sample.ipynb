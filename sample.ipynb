{
 "cells": [
  {
   "cell_type": "markdown",
   "id": "92182994-9199-46d0-b4d8-e3280c8f5002",
   "metadata": {},
   "source": [
    "## learning"
   ]
  },
  {
   "cell_type": "markdown",
   "id": "200ede5d-5a92-4099-97f6-170548691f22",
   "metadata": {},
   "source": [
    "here is how i calculate `1+1`"
   ]
  },
  {
   "cell_type": "code",
   "execution_count": null,
   "id": "a3a72abd-e098-45d6-aca3-bd777ec3e72d",
   "metadata": {},
   "outputs": [],
   "source": []
  }
 ],
 "metadata": {
  "kernelspec": {
   "display_name": "Python 3 (ipykernel)",
   "language": "python",
   "name": "python3"
  },
  "language_info": {
   "codemirror_mode": {
    "name": "ipython",
    "version": 3
   },
   "file_extension": ".py",
   "mimetype": "text/x-python",
   "name": "python",
   "nbconvert_exporter": "python",
   "pygments_lexer": "ipython3",
   "version": "3.12.7"
  }
 },
 "nbformat": 4,
 "nbformat_minor": 5
}
